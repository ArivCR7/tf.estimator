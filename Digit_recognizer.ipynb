{
 "cells": [
  {
   "cell_type": "code",
   "execution_count": 1,
   "metadata": {},
   "outputs": [],
   "source": [
    "import tensorflow as tf\n",
    "import pandas as pd\n",
    "import numpy as np\n",
    "from tensorflow.python.data import Dataset\n",
    "from sklearn import metrics\n",
    "from matplotlib import pyplot as plt\n",
    "tf.logging.set_verbosity(tf.logging.ERROR)\n",
    "import seaborn as sns"
   ]
  },
  {
   "cell_type": "code",
   "execution_count": 2,
   "metadata": {},
   "outputs": [],
   "source": [
    "mnist_dataframe = pd.read_csv(\n",
    "  \"C:/Users/a.ezhilarasan/Downloads/mnist_train_small.csv\",\n",
    "  sep=\",\",\n",
    "  header=None)\n",
    "mnist_dataframe = mnist_dataframe.reindex(np.random.permutation(mnist_dataframe.index))"
   ]
  },
  {
   "cell_type": "code",
   "execution_count": 4,
   "metadata": {},
   "outputs": [
    {
     "data": {
      "text/plain": [
       "(20000, 785)"
      ]
     },
     "execution_count": 4,
     "metadata": {},
     "output_type": "execute_result"
    }
   ],
   "source": [
    "mnist_dataframe.head()\n",
    "mnist_dataframe.shape"
   ]
  },
  {
   "cell_type": "code",
   "execution_count": 3,
   "metadata": {},
   "outputs": [],
   "source": [
    "#take 10000 rows for training and validation\n",
    "mnist_df = mnist_dataframe.head(10000)\n",
    "mnist_test = mnist_dataframe.tail(10000)"
   ]
  },
  {
   "cell_type": "code",
   "execution_count": 6,
   "metadata": {},
   "outputs": [
    {
     "name": "stdout",
     "output_type": "stream",
     "text": [
      "(10000, 785)\n",
      "       0    1    2    3    4    5    6    7    8    9   ...   775  776  777  \\\n",
      "1756     6    0    0    0    0    0    0    0    0    0 ...     0    0    0   \n",
      "18077    0    0    0    0    0    0    0    0    0    0 ...     0    0    0   \n",
      "9526     5    0    0    0    0    0    0    0    0    0 ...     0    0    0   \n",
      "15699    9    0    0    0    0    0    0    0    0    0 ...     0    0    0   \n",
      "18963    5    0    0    0    0    0    0    0    0    0 ...     0    0    0   \n",
      "\n",
      "       778  779  780  781  782  783  784  \n",
      "1756     0    0    0    0    0    0    0  \n",
      "18077    0    0    0    0    0    0    0  \n",
      "9526     0    0    0    0    0    0    0  \n",
      "15699    0    0    0    0    0    0    0  \n",
      "18963    0    0    0    0    0    0    0  \n",
      "\n",
      "[5 rows x 785 columns]\n"
     ]
    }
   ],
   "source": [
    "print(mnist_df.shape)\n",
    "print(mnist_df.head())"
   ]
  },
  {
   "cell_type": "code",
   "execution_count": 7,
   "metadata": {},
   "outputs": [
    {
     "data": {
      "text/plain": [
       "1756     6\n",
       "18077    0\n",
       "9526     5\n",
       "15699    9\n",
       "18963    5\n",
       "14199    8\n",
       "11640    0\n",
       "15008    2\n",
       "14459    2\n",
       "4158     3\n",
       "17000    0\n",
       "15506    1\n",
       "5273     4\n",
       "2913     9\n",
       "13727    9\n",
       "2224     7\n",
       "2899     9\n",
       "9168     8\n",
       "11140    1\n",
       "244      4\n",
       "5413     6\n",
       "18007    4\n",
       "17425    5\n",
       "7723     5\n",
       "18871    1\n",
       "8259     2\n",
       "6481     7\n",
       "5116     1\n",
       "1689     6\n",
       "3808     8\n",
       "        ..\n",
       "10720    2\n",
       "2494     4\n",
       "4518     8\n",
       "1192     6\n",
       "6726     7\n",
       "11956    2\n",
       "4702     7\n",
       "17977    0\n",
       "19506    6\n",
       "10351    8\n",
       "10180    3\n",
       "18172    7\n",
       "13448    7\n",
       "18742    8\n",
       "10981    8\n",
       "14265    7\n",
       "14493    3\n",
       "4611     0\n",
       "9266     5\n",
       "6783     6\n",
       "4864     9\n",
       "19384    6\n",
       "4071     4\n",
       "15302    3\n",
       "7059     1\n",
       "480      2\n",
       "16406    3\n",
       "7440     4\n",
       "10533    7\n",
       "16442    1\n",
       "Name: 0, Length: 10000, dtype: int64"
      ]
     },
     "execution_count": 7,
     "metadata": {},
     "output_type": "execute_result"
    }
   ],
   "source": [
    "mnist_df.loc[:,5:5] #checks all rows and only column '5'\n",
    "mnist_df.iloc[1:5,0:2] #checks 1st to 4th row, 0 and 1st column\n",
    "mnist_df[0] #slices only 0th column. type is pandas.Series\n",
    "mnist_df.loc[:,0] #very similar to the above statement"
   ]
  },
  {
   "cell_type": "code",
   "execution_count": 44,
   "metadata": {},
   "outputs": [
    {
     "data": {
      "text/plain": [
       "pandas.core.series.Series"
      ]
     },
     "execution_count": 44,
     "metadata": {},
     "output_type": "execute_result"
    }
   ],
   "source": []
  },
  {
   "cell_type": "code",
   "execution_count": 4,
   "metadata": {},
   "outputs": [],
   "source": [
    "def parse_label_and_features(mnist_data):\n",
    "    label = mnist_data[0]\n",
    "    features = mnist_data.loc[:,1:784]\n",
    "    features = features / 255\n",
    "    return label,features"
   ]
  },
  {
   "cell_type": "code",
   "execution_count": 5,
   "metadata": {},
   "outputs": [],
   "source": [
    "training_targets, training_examples = parse_label_and_features(mnist_df.head(7500))"
   ]
  },
  {
   "cell_type": "code",
   "execution_count": 6,
   "metadata": {},
   "outputs": [],
   "source": [
    "validation_targets, validation_examples = parse_label_and_features(mnist_df.tail(2500))"
   ]
  },
  {
   "cell_type": "code",
   "execution_count": 50,
   "metadata": {},
   "outputs": [
    {
     "name": "stdout",
     "output_type": "stream",
     "text": [
      "<class 'pandas.core.frame.DataFrame'>\n",
      "<class 'pandas.core.series.Series'>\n",
      "<class 'pandas.core.frame.DataFrame'>\n",
      "<class 'pandas.core.series.Series'>\n"
     ]
    }
   ],
   "source": [
    "print(type(training_examples))\n",
    "print(type(training_targets))\n",
    "print(type(validation_examples))\n",
    "print(type(validation_targets))\n"
   ]
  },
  {
   "cell_type": "code",
   "execution_count": 11,
   "metadata": {},
   "outputs": [
    {
     "data": {
      "text/plain": [
       "numpy.ndarray"
      ]
     },
     "execution_count": 11,
     "metadata": {},
     "output_type": "execute_result"
    }
   ],
   "source": [
    "type(training_examples.values)"
   ]
  },
  {
   "cell_type": "code",
   "execution_count": 12,
   "metadata": {},
   "outputs": [
    {
     "name": "stdout",
     "output_type": "stream",
     "text": [
      "<built-in method values of dict object at 0x0000016E35BEB2C8>\n"
     ]
    }
   ],
   "source": [
    "#np.array(training_targets[3434])\n",
    "raw = {'pixels':training_examples}\n",
    "#type(raw)\n",
    "print(raw.values)\n",
    "#print(key for key in dict(training_examples).keys)\n"
   ]
  },
  {
   "cell_type": "code",
   "execution_count": 7,
   "metadata": {},
   "outputs": [],
   "source": [
    "def construct_feature_columns():\n",
    "    return(set([tf.feature_column.numeric_column('pixels', shape=784)]))\n",
    "\n",
    "def create_training_input_fn(features, targets, num_epochs = None, shuffle = False, batch_size=1):\n",
    "    def my_input(num_epochs = None, shuffle = False):\n",
    "        idx = np.random.permutation(features.index)\n",
    "        raw_features = {'pixels':features.reindex(idx)}\n",
    "        raw_targets = np.array(targets[idx])\n",
    "        ds = Dataset.from_tensor_slices((raw_features,raw_targets))\n",
    "        ds = ds.batch(batch_size).repeat(num_epochs)\n",
    "        if(shuffle):\n",
    "            ds = ds.shuffle(10000)\n",
    "        feature,label = ds.make_one_shot_iterator().get_next()\n",
    "        return feature,label\n",
    "    return my_input\n",
    "\n",
    "def create_predict_input_fn(features, targets, batch_size = 1):\n",
    "    def my_input():\n",
    "        raw_features = {'pixels':features.values}\n",
    "        raw_targets = np.array(targets)\n",
    "        ds = Dataset.from_tensor_slices((raw_features,raw_targets))\n",
    "        ds = ds.batch(batch_size).repeat(1)\n",
    "        feature,label = ds.make_one_shot_iterator().get_next()\n",
    "        return feature,label\n",
    "    return my_input\n"
   ]
  },
  {
   "cell_type": "code",
   "execution_count": 8,
   "metadata": {},
   "outputs": [],
   "source": [
    "def train_linear_classification_model(training_examples, training_targets, validation_examples, \n",
    "                                     validation_targets, steps, learning_rate, batch_size):\n",
    "    #create input functions\n",
    "    training_input_fn = create_training_input_fn(training_examples,training_targets)\n",
    "    predict_training_input_fn = create_predict_input_fn(training_examples, training_targets, \n",
    "                                                        batch_size)\n",
    "    predict_validation_input_fn = create_predict_input_fn(validation_examples, validation_targets,\n",
    "                                                         batch_size)\n",
    "    \n",
    "    #configure linear classifier\n",
    "    my_optimizer = tf.train.GradientDescentOptimizer(learning_rate = learning_rate)\n",
    "    my_optimizer = tf.contrib.estimator.clip_gradients_by_norm(my_optimizer, 5.0)\n",
    "    linear_classifier = tf.estimator.LinearClassifier(feature_columns=construct_feature_columns(), optimizer=my_optimizer, \n",
    "                                                      n_classes=10)\n",
    "    \n",
    "    periods = 10\n",
    "    steps_per_period = steps/periods\n",
    "    training_loss = []\n",
    "    validation_loss = []\n",
    "    for period in range(1,periods):\n",
    "        linear_classifier.train(input_fn = training_input_fn, steps = steps_per_period)\n",
    "        \n",
    "        #take a break and compute metrics\n",
    "        training_predictions = list(linear_classifier.predict(input_fn= predict_training_input_fn))\n",
    "        training_probabilities = np.array([item['probabilities'] for item in training_predictions])\n",
    "        training_pred_class_ids = np.array([item['class_ids'][0] for item in training_predictions])\n",
    "        training_pred_one_hot = tf.keras.utils.to_categorical(training_pred_class_ids,10)\n",
    "        \n",
    "        validation_predictions = list(linear_classifier.predict(input_fn= predict_validation_input_fn))\n",
    "        validation_probabilities = np.array([item['probabilities'] for item in validation_predictions])\n",
    "        validation_pred_class_ids = np.array([item['class_ids'][0] for item in validation_predictions])\n",
    "        validation_pred_one_hot = tf.keras.utils.to_categorical(validation_pred_class_ids,10)\n",
    "                \n",
    "        training_log_loss = metrics.log_loss(training_targets, training_pred_one_hot)\n",
    "        validation_log_loss = metrics.log_loss(validation_targets, validation_pred_one_hot)\n",
    "        print(\"Period: \",period)\n",
    "        print(\"Validation log loss: \", validation_log_loss)\n",
    "        #print(\"validation_pred_one_hot :\", validation_pred_one_hot)\n",
    "        training_loss.append(training_log_loss)\n",
    "        validation_loss.append(validation_log_loss)\n",
    "    final_predictions = linear_classifier.predict(input_fn=predict_validation_input_fn)\n",
    "    final_predictions_classids = np.array([item['class_ids'][0] for item in final_predictions])\n",
    "    \n",
    "    #Plot training and validation log loss over different periods\n",
    "    \n",
    "    plt.xlabel(\"Periods\")\n",
    "    plt.ylabel(\"Log loss\")\n",
    "    plt.plot(training_loss, label=\"Training loss\")\n",
    "    plt.plot(validation_loss, label=\"Validation loss\")\n",
    "    plt.legend()\n",
    "    plt.show()\n",
    "    \n",
    "    accuracy = metrics.accuracy_score(validation_targets, final_predictions_classids)\n",
    "    print(\"Final accuracy on validation data: \", accuracy)\n",
    "    \n",
    "    cm = metrics.confusion_matrix(validation_targets, final_predictions_classids)\n",
    "    #plot confusion matrix\n",
    "    ax = sns.heatmap(cm, cmap=\"bone_r\")\n",
    "    ax.set_aspect(1)\n",
    "    plt.title(\"Confusion Matrix\")\n",
    "    plt.xlabel(\"True Label\")\n",
    "    plt.ylabel(\"Predicted Label\")\n",
    "    plt.legend()\n",
    "    plt.show()\n",
    "    return linear_classifier\n"
   ]
  },
  {
   "cell_type": "code",
   "execution_count": 76,
   "metadata": {},
   "outputs": [
    {
     "name": "stdout",
     "output_type": "stream",
     "text": [
      "Period:  1\n",
      "Validation log loss:  21.82850668158356\n",
      "Period:  2\n",
      "Validation log loss:  19.31408376003406\n",
      "Period:  3\n",
      "Validation log loss:  18.291735978744704\n",
      "Period:  4\n",
      "Validation log loss:  15.4319252932461\n",
      "Period:  5\n",
      "Validation log loss:  13.55301585736296\n",
      "Period:  6\n",
      "Validation log loss:  12.931317882254568\n",
      "Period:  7\n",
      "Validation log loss:  10.403079450147107\n",
      "Period:  8\n",
      "Validation log loss:  13.19381258285589\n",
      "Period:  9\n",
      "Validation log loss:  10.085322707313928\n"
     ]
    },
    {
     "data": {
      "image/png": "[encoded data removed]",
      "text/plain": [
       "<Figure size 432x288 with 1 Axes>"
      ]
     },
     "metadata": {},
     "output_type": "display_data"
    },
    {
     "name": "stdout",
     "output_type": "stream",
     "text": [
      "Final accuracy on validation data:  0.708\n"
     ]
    },
    {
     "name": "stderr",
     "output_type": "stream",
     "text": [
      "No handles with labels found to put in legend.\n"
     ]
    },
    {
     "data": {
      "image/png": "[encoded data removed]",
      "text/plain": [
       "<Figure size 432x288 with 2 Axes>"
      ]
     },
     "metadata": {},
     "output_type": "display_data"
    }
   ],
   "source": [
    "classifier = train_linear_classification_model(training_examples, training_targets,\n",
    "                                              validation_examples, validation_targets,\n",
    "                                              steps = 200, learning_rate = 0.05, batch_size = 5)"
   ]
  },
  {
   "cell_type": "code",
   "execution_count": 9,
   "metadata": {},
   "outputs": [],
   "source": [
    "def train_DNN_classification_model(training_examples, training_targets, validation_examples, \n",
    "                                     validation_targets, steps, learning_rate, batch_size, hidden_units):\n",
    "    #create input functions\n",
    "    training_input_fn = create_training_input_fn(training_examples,training_targets)\n",
    "    predict_training_input_fn = create_predict_input_fn(training_examples, training_targets, \n",
    "                                                        batch_size)\n",
    "    predict_validation_input_fn = create_predict_input_fn(validation_examples, validation_targets,\n",
    "                                                         batch_size)\n",
    "    \n",
    "    #configure linear classifier\n",
    "    my_optimizer = tf.train.GradientDescentOptimizer(learning_rate = learning_rate)\n",
    "    my_optimizer = tf.contrib.estimator.clip_gradients_by_norm(my_optimizer, 5.0)\n",
    "    dnnclassifier = tf.estimator.DNNClassifier(feature_columns=construct_feature_columns(), optimizer=my_optimizer, \n",
    "                                                      n_classes=10, hidden_units = hidden_units)\n",
    "    \n",
    "    periods = 10\n",
    "    steps_per_period = steps/periods\n",
    "    training_loss = []\n",
    "    validation_loss = []\n",
    "    for period in range(1,periods):\n",
    "        dnnclassifier.train(input_fn = training_input_fn, steps = steps_per_period)\n",
    "        \n",
    "        #take a break and compute metrics\n",
    "        training_predictions = list(dnnclassifier.predict(input_fn= predict_training_input_fn))\n",
    "        training_probabilities = np.array([item['probabilities'] for item in training_predictions])\n",
    "        training_pred_class_ids = np.array([item['class_ids'][0] for item in training_predictions])\n",
    "        training_pred_one_hot = tf.keras.utils.to_categorical(training_pred_class_ids,10)\n",
    "        \n",
    "        validation_predictions = list(dnnclassifier.predict(input_fn= predict_validation_input_fn))\n",
    "        validation_probabilities = np.array([item['probabilities'] for item in validation_predictions])\n",
    "        validation_pred_class_ids = np.array([item['class_ids'][0] for item in validation_predictions])\n",
    "        validation_pred_one_hot = tf.keras.utils.to_categorical(validation_pred_class_ids,10)\n",
    "                \n",
    "        training_log_loss = metrics.log_loss(training_targets, training_pred_one_hot)\n",
    "        validation_log_loss = metrics.log_loss(validation_targets, validation_pred_one_hot)\n",
    "        print(\"Period: \",period)\n",
    "        print(\"Validation log loss: \", validation_log_loss)\n",
    "        #print(\"validation_pred_one_hot :\", validation_pred_one_hot)\n",
    "        training_loss.append(training_log_loss)\n",
    "        validation_loss.append(validation_log_loss)\n",
    "    final_predictions = dnnclassifier.predict(input_fn=predict_validation_input_fn)\n",
    "    final_predictions_classids = np.array([item['class_ids'][0] for item in final_predictions])\n",
    "    \n",
    "    #Plot training and validation log loss over different periods\n",
    "    \n",
    "    plt.xlabel(\"Periods\")\n",
    "    plt.ylabel(\"Log loss\")\n",
    "    plt.plot(training_loss, label=\"Training loss\")\n",
    "    plt.plot(validation_loss, label=\"Validation loss\")\n",
    "    plt.legend()\n",
    "    plt.show()\n",
    "    \n",
    "    accuracy = metrics.accuracy_score(validation_targets, final_predictions_classids)\n",
    "    print(\"Final accuracy on validation data: \", accuracy)\n",
    "    \n",
    "    cm = metrics.confusion_matrix(validation_targets, final_predictions_classids)\n",
    "    #plot confusion matrix\n",
    "    ax = sns.heatmap(cm, cmap=\"bone_r\")\n",
    "    ax.set_aspect(1)\n",
    "    plt.title(\"Confusion Matrix\")\n",
    "    plt.xlabel(\"True Label\")\n",
    "    plt.ylabel(\"Predicted Label\")\n",
    "    plt.legend()\n",
    "    plt.show()\n",
    "    return dnnclassifier"
   ]
  },
  {
   "cell_type": "code",
   "execution_count": 10,
   "metadata": {},
   "outputs": [
    {
     "name": "stdout",
     "output_type": "stream",
     "text": [
      "Period:  1\n",
      "Validation log loss:  7.9853651025033585\n",
      "Period:  2\n",
      "Validation log loss:  4.863059716403432\n",
      "Period:  3\n",
      "Validation log loss:  4.669642568591933\n",
      "Period:  4\n",
      "Validation log loss:  4.642011547476005\n",
      "Period:  5\n",
      "Validation log loss:  5.028845843099004\n",
      "Period:  6\n",
      "Validation log loss:  3.6611102978605414\n",
      "Period:  7\n",
      "Validation log loss:  3.3709845761432917\n",
      "Period:  8\n",
      "Validation log loss:  3.4538776394910777\n",
      "Period:  9\n",
      "Validation log loss:  2.8736261960565774\n"
     ]
    },
    {
     "data": {
      "image/png": "[encoded data removed]",
      "text/plain": [
       "<Figure size 432x288 with 1 Axes>"
      ]
     },
     "metadata": {},
     "output_type": "display_data"
    },
    {
     "name": "stderr",
     "output_type": "stream",
     "text": [
      "No handles with labels found to put in legend.\n"
     ]
    },
    {
     "name": "stdout",
     "output_type": "stream",
     "text": [
      "Final accuracy on validation data:  0.9168\n"
     ]
    },
    {
     "data": {
      "image/png": "[encoded data removed]",
      "text/plain": [
       "<Figure size 432x288 with 2 Axes>"
      ]
     },
     "metadata": {},
     "output_type": "display_data"
    }
   ],
   "source": [
    "dnn_classifier = train_DNN_classification_model(training_examples, training_targets, validation_examples, validation_targets,\n",
    "                                               steps = 10000, learning_rate = 0.05, batch_size = 20, hidden_units = [50,100,150,200])"
   ]
  },
  {
   "cell_type": "code",
   "execution_count": null,
   "metadata": {},
   "outputs": [],
   "source": []
  }
 ],
 "metadata": {
  "kernelspec": {
   "display_name": "Python 3",
   "language": "python",
   "name": "python3"
  },
  "language_info": {
   "codemirror_mode": {
    "name": "ipython",
    "version": 3
   },
   "file_extension": ".py",
   "mimetype": "text/x-python",
   "name": "python",
   "nbconvert_exporter": "python",
   "pygments_lexer": "ipython3",
   "version": "3.5.5"
  }
 },
 "nbformat": 4,
 "nbformat_minor": 2
}
